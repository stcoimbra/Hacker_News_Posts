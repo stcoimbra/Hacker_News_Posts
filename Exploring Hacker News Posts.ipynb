{
 "cells": [
  {
   "cell_type": "markdown",
   "metadata": {},
   "source": [
    "# Hacker news - Post Anlaysis\n",
    "\n",
    "In this project, we'll compare two different types of posts from [Hacker News](https://news.ycombinator.com/), a popular site where technology related stories (or 'posts') are voted and commented upon. The two types of posts we'll explore begin with either **Ask HN** or **Show HN.**\n",
    "\n",
    "Users submit **Ask HN posts** to ask the Hacker News community a specific question, such as \"What is the best online course you've ever taken?\" Likewise, users submit **Show HN posts** to show the Hacker News community a project, product, or just generally something interesting.\n",
    "\n",
    "We'll specifically compare these two types of posts to determine the following:\n",
    "\n",
    "* Do _Ask HN_ or _Show HN_ receive more comments on average?\n",
    "* Do posts created at a certain time receive more comments on average?\n",
    "\n",
    "It should be noted that the data set we're working with was reduced from almost 300,000 rows to approximately 20,000 rows by removing all submissions that did not receive any comments, and then randomly sampling from the remaining submissions.\n",
    "\n",
    "\n",
    "## What the data set is in this project\n",
    "Resourse: https://www.kaggle.com/hacker-news/hacker-news-posts\n",
    "\n",
    "This data set is Hacker News posts from September 2015 to September 2016\n",
    "\n",
    "It includes the following columns:\n",
    "- **title**: title of the post (self explanatory)\n",
    "- **url**: the url of the item being linked to\n",
    "- **num_points**: the number of upvotes the post received\n",
    "- **num_comments**: the number of comments the post received\n",
    "- **author**: the name of the account that made the post\n",
    "- **created_at**: the date and time the post was made (the time zone is Eastern Time in the US)\n",
    "\n",
    "\n",
    "\n",
    "## 1 - Introduction\n",
    "First, we'll read in the data and remove the headers."
   ]
  },
  {
   "cell_type": "code",
   "execution_count": 1,
   "metadata": {},
   "outputs": [
    {
     "name": "stdout",
     "output_type": "stream",
     "text": [
      "['id', 'title', 'url', 'num_points', 'num_comments', 'author', 'created_at']\n",
      "\n",
      "\n",
      "['12579008', 'You have two days to comment if you want stem cells to be classified as your own', 'http://www.regulations.gov/document?D=FDA-2015-D-3719-0018', '1', '0', 'altstar', '9/26/2016 3:26']\n",
      "\n",
      "\n",
      "['12579005', 'SQLAR  the SQLite Archiver', 'https://www.sqlite.org/sqlar/doc/trunk/README.md', '1', '0', 'blacksqr', '9/26/2016 3:24']\n",
      "\n",
      "\n",
      "['12578997', 'What if we just printed a flatscreen television on the side of our boxes?', 'https://medium.com/vanmoof/our-secrets-out-f21c1f03fdc8#.ietxmez43', '1', '0', 'pavel_lishin', '9/26/2016 3:19']\n",
      "\n",
      "\n",
      "['12578989', 'algorithmic music', 'http://cacm.acm.org/magazines/2011/7/109891-algorithmic-composition/fulltext', '1', '0', 'poindontcare', '9/26/2016 3:16']\n",
      "\n",
      "\n"
     ]
    }
   ],
   "source": [
    "open_file = open(\"hacker_news.csv\", encoding=\"utf8\")\n",
    "from csv import reader\n",
    "read_file = reader(open_file) \n",
    "hn = list(read_file) \n",
    "\n",
    "for i in hn[:5]:\n",
    "    print(i)\n",
    "    print(\"\\n\")\n",
    "    "
   ]
  },
  {
   "cell_type": "code",
   "execution_count": 2,
   "metadata": {},
   "outputs": [
    {
     "name": "stdout",
     "output_type": "stream",
     "text": [
      "['id', 'title', 'url', 'num_points', 'num_comments', 'author', 'created_at']\n",
      "\n",
      "\n",
      "['12579008', 'You have two days to comment if you want stem cells to be classified as your own', 'http://www.regulations.gov/document?D=FDA-2015-D-3719-0018', '1', '0', 'altstar', '9/26/2016 3:26']\n",
      "\n",
      "\n",
      "['12579005', 'SQLAR  the SQLite Archiver', 'https://www.sqlite.org/sqlar/doc/trunk/README.md', '1', '0', 'blacksqr', '9/26/2016 3:24']\n",
      "\n",
      "\n",
      "['12578997', 'What if we just printed a flatscreen television on the side of our boxes?', 'https://medium.com/vanmoof/our-secrets-out-f21c1f03fdc8#.ietxmez43', '1', '0', 'pavel_lishin', '9/26/2016 3:19']\n",
      "\n",
      "\n",
      "['12578989', 'algorithmic music', 'http://cacm.acm.org/magazines/2011/7/109891-algorithmic-composition/fulltext', '1', '0', 'poindontcare', '9/26/2016 3:16']\n",
      "\n",
      "\n",
      "['12578979', 'How the Data Vault Enables the Next-Gen Data Warehouse and Data Lake', 'https://www.talend.com/blog/2016/05/12/talend-and-Â\\x93the-data-vaultÂ\\x94', '1', '0', 'markgainor1', '9/26/2016 3:14']\n"
     ]
    }
   ],
   "source": [
    "hn_headers = hn[0]\n",
    "\n",
    "hn = hn[1:]\n",
    "\n",
    "print(hn_headers)\n",
    "for i in hn[:5]:\n",
    "    print(\"\\n\")\n",
    "    print(i)\n",
    "    "
   ]
  },
  {
   "cell_type": "markdown",
   "metadata": {},
   "source": [
    "## 2. Extracting Ask HN and Show HN Posts\n",
    "Since we're only concerned with post titles beginning with ***Ask HN*** or ***Show HN***, we'll create new lists of lists containing just the data for those titles.\n",
    "\n",
    "Let's use ***str.startwith()*** and ***str.lower()*** methods to separate posts beginning with Ask HN and Show HN (and case variations) into two different lists next.\n",
    "\n",
    "**Instructions:**\n",
    "1. Create three empty lists called **ask_posts**, **show_posts**, and **other_posts**.\n",
    "2. Loop through each row in **hn**.\n",
    "    - Assign the **title** in each row to a variable named **title**.\n",
    "    - Because the **title** column is the second column, you'll need to get the element at index **1** in each row.\n",
    "3. Implement the following steps:\n",
    "    - If the lowercase version of **title** starts with **ask hn**, append the row to **ask_posts**.\n",
    "    - Else if the lowercase version of **title** starts with **show hn**, append the row to **show_posts**.\n",
    "    - Else append to **other_posts**.\n",
    "4. Check the number of posts in **ask_posts**, **show_posts**, and **other_posts**."
   ]
  },
  {
   "cell_type": "code",
   "execution_count": 3,
   "metadata": {},
   "outputs": [
    {
     "name": "stdout",
     "output_type": "stream",
     "text": [
      "Number of 'Ask HN' posts: 9139\n",
      "Number of 'Show HN' posts: 10158\n",
      "Number of 'Other posts': 273822\n"
     ]
    }
   ],
   "source": [
    "ask_posts = []\n",
    "show_posts = []\n",
    "other_posts =  []\n",
    "\n",
    "for post in hn:\n",
    "    title = post[1]\n",
    "    if (title.lower().startswith('ask hn')): \n",
    "        ask_posts.append(post)\n",
    "    elif (title.lower().startswith('show hn')):\n",
    "        show_posts.append(post)\n",
    "    else:\n",
    "        other_posts.append(post)\n",
    "        \n",
    "\n",
    "print(\"Number of 'Ask HN' posts:\",len(ask_posts))\n",
    "print(\"Number of 'Show HN' posts:\",len(show_posts))\n",
    "print(\"Number of 'Other posts':\",len(other_posts)) \n",
    "        "
   ]
  },
  {
   "cell_type": "markdown",
   "metadata": {},
   "source": [
    "# 3.Calculating the Average Number of Comments for Ask HN and Show HN Posts\n",
    "\n",
    "\n",
    "Now that we separated ask posts and show posts into different lists, we'll calculate the average number of comments each type of post receives.\n",
    "\n",
    "**SUGESTÃO: acrescentar à análise também os pontos. Poderá ter menos comentários mas ser mais \"popular**"
   ]
  },
  {
   "cell_type": "code",
   "execution_count": 4,
   "metadata": {},
   "outputs": [
    {
     "name": "stdout",
     "output_type": "stream",
     "text": [
      "The 'ASK Posts' have, in average, 10.39 comments\n",
      "The 'ASK Posts' have, in average, 11.31 points\n",
      "*****\n",
      "The 'SHOW Posts' have, in average, 4.89 comments\n",
      "The 'SHOW Posts' have, in average, 16.5 points\n"
     ]
    }
   ],
   "source": [
    "total_ask_comments = 0\n",
    "for row in ask_posts:\n",
    "    total_ask_comments += int(row[4])\n",
    "\n",
    "    avg_ask_comments = total_ask_comments /len(ask_posts)    \n",
    "print(\"The 'ASK Posts' have, in average, \" + str(round(avg_ask_comments,2)) +\n",
    "     \" comments\")\n",
    "\n",
    "total_ask_points = 0\n",
    "for row in ask_posts:\n",
    "    total_ask_points += int(row[3])\n",
    "\n",
    "    avg_ask_points = total_ask_points /len(ask_posts)    \n",
    "print(\"The 'ASK Posts' have, in average, \" + str(round(avg_ask_points,2)) +\n",
    "     \" points\")\n",
    "\n",
    "print(5*\"*\")\n",
    "\n",
    "total_show_comments = 0\n",
    "for row in show_posts:\n",
    "    total_show_comments += int(row[4])\n",
    "\n",
    "avg_show_comments = total_show_comments /len(show_posts)    \n",
    "print(\"The 'SHOW Posts' have, in average, \" + str(round(avg_show_comments,2)) +\n",
    "     \" comments\")\n",
    "\n",
    "total_show_points = 0\n",
    "for row in show_posts:\n",
    "    total_show_points += int(row[3])\n",
    "\n",
    "    avg_show_points = total_show_points /len(ask_posts)    \n",
    "print(\"The 'SHOW Posts' have, in average, \" + str(round(avg_show_points,2)) +\n",
    "     \" points\")\n"
   ]
  },
  {
   "cell_type": "markdown",
   "metadata": {},
   "source": [
    "The \"ASK Posts\" has, on average, more comments, than the \"SHOW Posts\" but less upvotes. As the difference is not significant and the goal of the project was just to know which type of posts receives more comments we will continue to analyze only the **\"ASK Posts\"**.\n",
    "\n",
    "## 4.. Finding the Amount of Ask Posts and Comments by Hour Created\n",
    "Next, we'll determine if ask posts created at a certain time are more likely to attract comments. We'll use the following steps to perform this analysis:\n",
    "\n",
    "1. Calculate the amount of ask posts created in each hour of the day, along with the number of comments received.\n",
    "    (Useing _datetime module_ to work with the data in the created_at column.)\n",
    "2. Calculate the average number of comments ask posts receive by hour created.\n",
    "\n",
    "**Instructions:**\n",
    "1. Import the **datetime module** as **dt**.\n",
    "2. Create an empty list and assign it to **result_list**. This will be a list of lists.\n",
    "3. Iterate over **ask_posts** and append to **result_list** a list with two elements:\n",
    "    - The first element shall be the column **created_at**.\n",
    "        - Because the **created_at** column is the seventh column in **ask_posts**, you'll need to get the element at index **6** in each row.\n",
    "    - The second element shall be the number of comments of the post.\n",
    "        - You'll also need to convert the value to an integer.\n",
    "4. Create two empty dictionaries called **counts_by_hour** and **comments_by_hour**.\n",
    "5. Loop through each row of **result_list**.\n",
    "6. Extract the hour from the date, which is the first element of the row.\n",
    "7. Use the **datetime.strptime()** method to parse the date and create a datetime object.\n",
    "8. Use the string we want to parse as the first argument and a string that specifies the format as the second argument.\n",
    "    - Use the **datetime.strftime()** method to select just the hour from the datetime object.\n",
    "    - **If the hour isn't** a key in counts_by_hour:\n",
    "        - Create the key in counts_by_hour and set it equal to 1.\n",
    "        - Create the key in comments_by_hour and set it equal to the comment number.\n",
    "    - **If the hour is** already a key in counts_by_hour:\n",
    "        - Increment the value in counts_by_hour by 1.\n",
    "        - Increment the value in comments_by_hour by the comment number."
   ]
  },
  {
   "cell_type": "code",
   "execution_count": 5,
   "metadata": {},
   "outputs": [
    {
     "name": "stdout",
     "output_type": "stream",
     "text": [
      "15h:00 - 18525 comments\n",
      "13h:00 - 7245 comments\n",
      "17h:00 - 5547 comments\n",
      "14h:00 - 4972 comments\n",
      "18h:00 - 4877 comments\n",
      "21h:00 - 4500 comments\n",
      "16h:00 - 4466 comments\n",
      "20h:00 - 4462 comments\n",
      "12h:00 - 4234 comments\n",
      "19h:00 - 3954 comments\n",
      "22h:00 - 3372 comments\n",
      "10h:00 - 3013 comments\n",
      "02h:00 - 2996 comments\n",
      "11h:00 - 2797 comments\n",
      "08h:00 - 2362 comments\n",
      "04h:00 - 2360 comments\n",
      "23h:00 - 2297 comments\n",
      "00h:00 - 2277 comments\n",
      "03h:00 - 2154 comments\n",
      "01h:00 - 2089 comments\n",
      "05h:00 - 1838 comments\n",
      "06h:00 - 1587 comments\n",
      "07h:00 - 1585 comments\n",
      "09h:00 - 1477 comments\n"
     ]
    }
   ],
   "source": [
    "import datetime as dt\n",
    "\n",
    "results_list = []\n",
    "\n",
    "for post in ask_posts:\n",
    "    time_post = post[6]\n",
    "    n_comments = int(post[4])\n",
    "    results_list.append([time_post,n_comments])\n",
    "\n",
    "counts_by_hour = {}\n",
    "comments_by_hour = {}\n",
    "date_format = \"%m/%d/%Y %H:%M\"\n",
    "\n",
    "for post in results_list:\n",
    "    date = post[0]\n",
    "    comment = post[1]\n",
    "    time = dt.datetime.strptime(date, date_format).strftime(\"%H\")\n",
    "    if time in counts_by_hour:\n",
    "        comments_by_hour[time] += comment\n",
    "        counts_by_hour[time] += 1\n",
    "    else:\n",
    "        comments_by_hour[time] = comment\n",
    "        counts_by_hour[time] = 1\n",
    "\n",
    "\n",
    "listofTuples = sorted(comments_by_hour.items() ,  key=lambda x: x[1], reverse = True)\n",
    "for elem in listofTuples :\n",
    "    print(elem[0]+\"h:00 -\" , elem[1], \"comments\" )"
   ]
  },
  {
   "cell_type": "markdown",
   "metadata": {},
   "source": [
    "Knowing the total comments, and the number of postings per hour we can know the number of comments that each post receives on average:"
   ]
  },
  {
   "cell_type": "code",
   "execution_count": 6,
   "metadata": {},
   "outputs": [
    {
     "name": "stdout",
     "output_type": "stream",
     "text": [
      "\u001b[1mTOP 5 HOURS\u001b[0m\n",
      "15h:00 -  28.68 comments by hour\n",
      "13h:00 -  16.32 comments by hour\n",
      "12h:00 -  12.38 comments by hour\n",
      "02h:00 -  11.14 comments by hour\n",
      "10h:00 -  10.68 comments by hour\n",
      "*****\n",
      "\u001b[1mBOTTOM 5 HOURS\u001b[0m\n",
      "19h:00 -  7.16 comments by hour\n",
      "07h:00 -  7.01 comments by hour\n",
      "06h:00 -  6.78 comments by hour\n",
      "23h:00 -  6.7 comments by hour\n",
      "09h:00 -  6.65 comments by hour\n"
     ]
    }
   ],
   "source": [
    "avg_by_hours = []\n",
    "\n",
    "for hour in comments_by_hour:\n",
    "    avg_by_hours.append([hour,round(comments_by_hour[hour]/counts_by_hour[hour],2)])\n",
    "    \n",
    "avg_by_hours.sort(key=lambda x: x[1], reverse=True)\n",
    "\n",
    "\n",
    "class color:\n",
    "   BOLD = '\\033[1m'\n",
    "   END = '\\033[0m'\n",
    "\n",
    "print('\\033[1m' + 'TOP 5 HOURS' + '\\033[0m')\n",
    "for hour in avg_by_hours[:5]:\n",
    "    print(hour[0]+\"h:00 - \",hour[1],\"comments by hour\")\n",
    "\n",
    "print(5*\"*\") \n",
    "print('\\033[1m' + 'BOTTOM 5 HOURS' + '\\033[0m') \n",
    "for hour in avg_by_hours[-5:]:\n",
    "    print(hour[0]+\"h:00 - \",hour[1],\"comments by hour\")"
   ]
  },
  {
   "cell_type": "markdown",
   "metadata": {},
   "source": [
    "The hour that receives the most comments per post on average is 15:00, with an average of 28.68 comments per post. There's about a 60% increase in the number of comments between the hours with the highest and second highest average number of comments.\n",
    "\n",
    "## 6.Conclusion\n",
    "In this project, we analyzed ask posts and show posts to determine which type of post and time receive the most comments on average. Based on our analysis, to maximize the amount of comments a post receives, we'd recommend the post be categorized as ask post and created between 15:00 and 16:00 (3:00 pm est - 4:00 pm est).\n",
    "\n",
    "However, it should be noted that the data set we analyzed excluded posts without any comments. Given that, it's more accurate to say that of the posts that received comments, ask posts received more comments on average and ask posts created between 15:00 and 16:00 (3:00 pm est - 4:00 pm est) received the most comments on average."
   ]
  }
 ],
 "metadata": {
  "kernelspec": {
   "display_name": "Python 3",
   "language": "python",
   "name": "python3"
  },
  "language_info": {
   "codemirror_mode": {
    "name": "ipython",
    "version": 3
   },
   "file_extension": ".py",
   "mimetype": "text/x-python",
   "name": "python",
   "nbconvert_exporter": "python",
   "pygments_lexer": "ipython3",
   "version": "3.8.3"
  }
 },
 "nbformat": 4,
 "nbformat_minor": 2
}
